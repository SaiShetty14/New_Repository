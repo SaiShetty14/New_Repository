{
  "metadata": {
    "language_info": {
      "codemirror_mode": {
        "name": "python",
        "version": 3
      },
      "file_extension": ".py",
      "mimetype": "text/x-python",
      "name": "python",
      "nbconvert_exporter": "python",
      "pygments_lexer": "ipython3",
      "version": "3.8"
    },
    "kernelspec": {
      "name": "python",
      "display_name": "Pyolite",
      "language": "python"
    }
  },
  "nbformat_minor": 4,
  "nbformat": 4,
  "cells": [
    {
      "cell_type": "markdown",
      "source": "# My Jupyter Notebook on IBM Watson Studio",
      "metadata": {}
    },
    {
      "cell_type": "markdown",
      "source": "<b>SAIPRASAD SHETTY</b><br>\nStudent ",
      "metadata": {}
    },
    {
      "cell_type": "markdown",
      "source": "<i>I am quite interesrted in Data Science because I love to understand data,their patterns and relations</i>",
      "metadata": {}
    },
    {
      "cell_type": "markdown",
      "source": "### SIEVE OR ERATOSTHENES",
      "metadata": {}
    },
    {
      "cell_type": "code",
      "source": "prime=lambda x:x if all(x%n for n in range(2,x)) else None  \nsieve_of_eratosthenes=lambda x:list(filter(prime,range(1,x)))",
      "metadata": {
        "trusted": true
      },
      "execution_count": 1,
      "outputs": []
    },
    {
      "cell_type": "code",
      "source": "sieve_of_eratosthenes(100)",
      "metadata": {
        "trusted": true
      },
      "execution_count": 2,
      "outputs": [
        {
          "execution_count": 2,
          "output_type": "execute_result",
          "data": {
            "text/plain": "[1,\n 2,\n 3,\n 5,\n 7,\n 11,\n 13,\n 17,\n 19,\n 23,\n 29,\n 31,\n 37,\n 41,\n 43,\n 47,\n 53,\n 59,\n 61,\n 67,\n 71,\n 73,\n 79,\n 83,\n 89,\n 97]"
          },
          "metadata": {}
        }
      ]
    },
    {
      "cell_type": "markdown",
      "source": "<ol>\n    <li><b>One</b></li>\n    <li><i>Two</i></li>\n    <li><b><i>Three</i></b></li>\n    <li><b>Four</b></li>\n</ol>",
      "metadata": {}
    }
  ]
}